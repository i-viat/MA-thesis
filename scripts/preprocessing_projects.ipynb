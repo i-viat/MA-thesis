{
 "cells": [
  {
   "cell_type": "code",
   "execution_count": 1,
   "id": "31bfeed9",
   "metadata": {},
   "outputs": [],
   "source": [
    "%pip install git+https://github.com/CAG-ru/geonorm\n",
    "    \n",
    "import pandas as pd\n",
    "from geonorm.geonormaliser_utils import decompose\n",
    "from geonorm.geonormaliser import Geonormaliser\n",
    "import re"
   ]
  },
  {
   "cell_type": "code",
   "execution_count": 2,
   "id": "019b3bde",
   "metadata": {},
   "outputs": [],
   "source": [
    "pd.set_option('display.max_rows', None)\n",
    "pd.set_option('display.max_colwidth', None)"
   ]
  },
  {
   "cell_type": "code",
   "execution_count": 127,
   "id": "c15971ff",
   "metadata": {},
   "outputs": [],
   "source": [
    "dataset = pd.read_csv('init_budg_projects.csv')"
   ]
  },
  {
   "cell_type": "markdown",
   "id": "d2acd7c4",
   "metadata": {},
   "source": [
    "## Normalization: funding columns"
   ]
  },
  {
   "cell_type": "code",
   "execution_count": 129,
   "id": "9eb0114d",
   "metadata": {},
   "outputs": [],
   "source": [
    "def fund_to_float(column_str, no_space=False):\n",
    "    if no_space == True:\n",
    "        column_float = re.sub('[.,]\\d{2}р.', '', column_str)\n",
    "    else:\n",
    "        column_float = re.sub('[.,]\\d{2}\\sр.', '', column_str)\n",
    "    return float(column_float.replace(',', '.').replace(' ', ''))"
   ]
  },
  {
   "cell_type": "code",
   "execution_count": 130,
   "id": "cb99faab",
   "metadata": {},
   "outputs": [],
   "source": [
    "dataset.project_cost = dataset.project_cost.apply(fund_to_float)\n",
    "dataset.fund_region = dataset.fund_region.apply(fund_to_float)\n",
    "dataset.fund_municipality = dataset.fund_municipality.apply(fund_to_float)\n",
    "dataset.fund_citizens = dataset.fund_citizens.apply(fund_to_float, no_space=True)\n",
    "dataset.fund_business = dataset.fund_business.apply(fund_to_float)\n",
    "dataset.year = dataset.year.str.replace(' год', '').astype('int64')"
   ]
  },
  {
   "cell_type": "markdown",
   "id": "8a004481",
   "metadata": {},
   "source": [
    "## Address decomposition "
   ]
  },
  {
   "cell_type": "code",
   "execution_count": 132,
   "id": "5f9548fb",
   "metadata": {},
   "outputs": [],
   "source": [
    "addr_decomp = dataset['address'].apply(decompose)"
   ]
  },
  {
   "cell_type": "code",
   "execution_count": 133,
   "id": "82e0b890",
   "metadata": {
    "scrolled": true
   },
   "outputs": [],
   "source": [
    "reg = [list(i.values())[0] for i in addr_decomp]\n",
    "\n",
    "dataset['region'] = reg"
   ]
  },
  {
   "cell_type": "markdown",
   "id": "6e1b4fdb",
   "metadata": {},
   "source": [
    "## Normalization: regions & categories"
   ]
  },
  {
   "cell_type": "code",
   "execution_count": 134,
   "id": "3d930cd4",
   "metadata": {},
   "outputs": [],
   "source": [
    "dataset_empty = dataset[dataset['region']==''] \n",
    "dataset.drop(dataset_empty.index, axis=0, inplace=True)"
   ]
  },
  {
   "cell_type": "code",
   "execution_count": 135,
   "id": "a2924642",
   "metadata": {},
   "outputs": [],
   "source": [
    "for index, row in dataset_empty.iterrows():\n",
    "    if 'Ханты-' in dataset_empty.at[index, 'address']:\n",
    "        dataset_empty.at[index, 'region'] = 'Ханты-Мансийский'\n",
    "    elif 'Волгоград,' in dataset_empty.at[index, 'address']:\n",
    "        dataset_empty.at[index, 'region'] = 'Волгоградская'\n",
    "    elif 'Москва,' in dataset_empty.at[index, 'address']:\n",
    "        dataset_empty.at[index, 'region'] = 'Московская'\n",
    "    elif 'Калуга,' in dataset_empty.at[index, 'address']:\n",
    "        dataset_empty.at[index, 'region'] = 'Калужская'\n",
    "    elif 'Ставрополь,' in dataset_empty.at[index, 'address']:\n",
    "        dataset_empty.at[index, 'region'] = 'Ставропольский'\n",
    "    elif 'Новороссийск,' in dataset_empty.at[index, 'address']:\n",
    "        dataset_empty.at[index, 'region'] = 'Краснодарский'\n",
    "    elif 'Санкт-Петербург,' in dataset_empty.at[index, 'address']:\n",
    "        dataset_empty.at[index, 'region'] = 'Санкт-Петербург'\n",
    "    elif 'Киров,' in dataset_empty.at[index, 'address']:\n",
    "        dataset_empty.at[index, 'region'] = 'Кировская'\n",
    "    elif 'Архангельск,' in dataset_empty.at[index, 'address']:\n",
    "        dataset_empty.at[index, 'region'] = 'Архангельская'\n",
    "    elif 'Кострома,' in dataset_empty.at[index, 'address']:\n",
    "        dataset_empty.at[index, 'region'] = 'Костромская'\n",
    "    elif 'Курск,' in dataset_empty.at[index, 'address']:\n",
    "        dataset_empty.at[index, 'region'] = 'Курская'\n",
    "    elif 'Пермь,' in dataset_empty.at[index, 'address']:\n",
    "        dataset_empty.at[index, 'region'] = 'Пермский'\n",
    "    elif 'Нижний Новгород,' in dataset_empty.at[index, 'address']:\n",
    "        dataset_empty.at[index, 'region'] = 'Нижегородская'\n",
    "    elif 'Самара,' in dataset_empty.at[index, 'address']:\n",
    "        dataset_empty.at[index, 'region'] = 'Самарская'\n",
    "    elif 'Великий Новгород,' in dataset_empty.at[index, 'address']:\n",
    "        dataset_empty.at[index, 'region'] = 'Новгородская'\n",
    "    elif 'Челябинск,' in dataset_empty.at[index, 'address']:\n",
    "        dataset_empty.at[index, 'region'] = 'Челябинская'\n",
    "    elif 'Ярославль,' in dataset_empty.at[index, 'address']:\n",
    "        dataset_empty.at[index, 'region'] = 'Ярославская'\n",
    "    elif 'Тамбов,' in dataset_empty.at[index, 'address']:\n",
    "        dataset_empty.at[index, 'region'] = 'Тамбовская'\n",
    "    elif 'Брянск,' in dataset_empty.at[index, 'address']:\n",
    "        dataset_empty.at[index, 'region'] = 'Брянская'\n",
    "    elif 'Ростов-на-Дону,' in dataset_empty.at[index, 'address']:\n",
    "        dataset_empty.at[index, 'region'] = 'Ростовская'\n",
    "    elif 'Ульяновск,' in dataset_empty.at[index, 'address']:\n",
    "        dataset_empty.at[index, 'region'] = 'Ульяновская'\n",
    "    elif 'Липецк,' in dataset_empty.at[index, 'address']:\n",
    "        dataset_empty.at[index, 'region'] = 'Липецкая'\n",
    "    elif 'ЯНАО' in dataset_empty.at[index, 'address']:\n",
    "        dataset_empty.at[index, 'region'] = 'Ямало-Ненецкий'\n",
    "    elif 'Россия, Омск' in dataset_empty.at[index, 'address']:\n",
    "        dataset_empty.at[index, 'region'] = 'Омская'\n",
    "    elif 'Россия, Санкт-Петербург' in dataset_empty.at[index, 'address']:\n",
    "        dataset_empty.at[index, 'region'] = 'Санкт-Петербург'\n",
    "    elif 'Россия, Тюмень' in dataset_empty.at[index, 'address']:\n",
    "        dataset_empty.at[index, 'region'] = 'Тюменская'\n",
    "    elif 'Россия, Томск' in dataset_empty.at[index, 'address']:\n",
    "        dataset_empty.at[index, 'region'] = 'Томская'\n",
    "    elif 'Россия, Калининград' in dataset_empty.at[index, 'address']:\n",
    "        dataset_empty.at[index, 'region'] = 'Калининградская'\n",
    "    elif 'Россия, Воронеж' in dataset_empty.at[index, 'address']:\n",
    "        dataset_empty.at[index, 'region'] = 'Воронежская'\n",
    "    elif 'Россия, Ростов-на-Дону' in dataset_empty.at[index, 'address']:\n",
    "        dataset_empty.at[index, 'region'] = 'Ростовская'\n",
    "    elif 'Россия, Киров' in dataset_empty.at[index, 'address']:\n",
    "        dataset_empty.at[index, 'region'] = 'Кировская'\n",
    "    elif 'Россия, Вологда,' in dataset_empty.at[index, 'address']:\n",
    "        dataset_empty.at[index, 'region'] = 'Вологодская'\n",
    "    elif 'Россия, Иркутск,' in dataset_empty.at[index, 'address']:\n",
    "        dataset_empty.at[index, 'region'] = 'Иркутская'\n",
    "    elif 'Новороссийск проспект' in dataset_empty.at[index, 'address']:\n",
    "        dataset_empty.at[index, 'region'] = 'Краснодарский'\n",
    "    elif 'г.Новороссийск' in dataset_empty.at[index, 'address']:\n",
    "        dataset_empty.at[index, 'region'] = 'Краснодарский'\n",
    "    elif 'Хабаровский район,' in dataset_empty.at[index, 'address']:\n",
    "        dataset_empty.at[index, 'region'] = 'Хабаровский'\n",
    "    elif 'Оренбургский район,' in dataset_empty.at[index, 'address']:\n",
    "        dataset_empty.at[index, 'region'] = 'Оренбургская'\n",
    "    elif 'Ивановский район,' in dataset_empty.at[index, 'address']:\n",
    "        dataset_empty.at[index, 'region'] = 'Ивановская'\n",
    "    elif 'Вологодский район,' in dataset_empty.at[index, 'address']:\n",
    "        dataset_empty.at[index, 'region'] = 'Вологодская'\n",
    "    elif 'Иркутский район,' in dataset_empty.at[index, 'address']:\n",
    "        dataset_empty.at[index, 'region'] = 'Иркутская'\n",
    "    elif 'Ульяновский район,' in dataset_empty.at[index, 'address']:\n",
    "        dataset_empty.at[index, 'region'] = 'Ульяновская'\n",
    "    elif 'Липецкий район,' in dataset_empty.at[index, 'address']:\n",
    "        dataset_empty.at[index, 'region'] = 'Липецкая'\n",
    "    elif 'Красноармейский район,' in dataset_empty.at[index, 'address']:\n",
    "        dataset_empty.at[index, 'region'] = 'Краснодарский'"
   ]
  },
  {
   "cell_type": "markdown",
   "id": "6b633665",
   "metadata": {},
   "source": [
    "### Adding regions manually"
   ]
  },
  {
   "cell_type": "code",
   "execution_count": 137,
   "id": "ac671cb0",
   "metadata": {},
   "outputs": [],
   "source": [
    "dataset_empty.loc[dataset_empty['address'] == 'ул. Новороссийской республики 21А/35', 'region'] = 'Краснодарский'\n",
    "dataset_empty.loc[dataset_empty['address'] == 'г.Зеленокумск, пересечение ул. Пугачева и переулка Партизанского'\\\n",
    "                  , 'region'] = 'Ставропольский'\n",
    "dataset_empty.loc[dataset_empty['address'] == 'ст. Натухаевская, ул. Красная82', 'region'] = 'Краснодарский'\n",
    "dataset_empty.loc[dataset_empty['address'] == 'г. Новодвинск, ул. Двинская, д.43', 'region'] = 'Архангельская'\n",
    "dataset_empty.loc[dataset_empty['address'] == '658417, Локтевский район п.Кировский', 'region'] = 'Алтайский'\n",
    "dataset_empty.loc[dataset_empty['address'] == 'Россия, Пермский район, посёлок Сылва, Молодёжная улица, 11'\\\n",
    "                  , 'region'] = 'Пермский'\n",
    "dataset_empty.loc[dataset_empty['address'] == 'Россия, Новгородский район, Панковское городское поселение, поселок городского типа Панковка, Первомайская улица, 2'\\\n",
    "                  , 'region'] = 'Новгородская'\n",
    "dataset_empty.loc[dataset_empty['address'] == 'Россия, Курский район, Рышковский сельсовет, деревня Голубицкое'\\\n",
    "                  , 'region'] = 'Курская'\n",
    "dataset_empty.loc[dataset_empty['address'] == 'Россия, городской округ Оренбург, село Городище, Октябрьская улица'\\\n",
    "                  , 'region'] = 'Оренбургская'\n",
    "dataset_empty.loc[dataset_empty['address'] == 'Россия, Новосибирский район, посёлок 8 Марта', 'region'] = 'Новосибирская'\n",
    "dataset_empty.loc[dataset_empty['address'] == 'Россия, Ямальский район, село Салемал, Первомайская улица, 19Б'\\\n",
    "                  , 'region'] = 'Ямало-Ненецкий'\n",
    "\n",
    "#### Three spelling mistakes:\n",
    "dataset.loc[dataset['region'] == 'Ямало-ненецкий' , 'region'] = 'Ямало-Ненецкий'\n",
    "dataset.loc[dataset['region'] == 'Ленинградской' , 'region'] = 'Ленинградская'\n",
    "dataset.loc[dataset['region'] == 'Ростовской' , 'region'] = 'Ростовская'"
   ]
  },
  {
   "cell_type": "code",
   "execution_count": 138,
   "id": "1b45d955",
   "metadata": {},
   "outputs": [],
   "source": [
    "dataset_final = pd.concat([dataset, dataset_empty]).reset_index(drop=True)"
   ]
  },
  {
   "cell_type": "markdown",
   "id": "490e48fe",
   "metadata": {},
   "source": [
    "### Uniting categories"
   ]
  },
  {
   "cell_type": "code",
   "execution_count": 140,
   "id": "6ab8ed6b",
   "metadata": {},
   "outputs": [],
   "source": [
    "dataset_final.category = dataset_final.category.str.replace('Детские площадки', 'Детские игровые площадки')\n",
    "dataset_final.category = dataset_final.category.str.replace('Водоснабжение$',\\\n",
    "                                                        'Водоснабжение, водоотведение', regex=True)\n",
    "dataset_final.category = dataset_final.category.str.replace('Места захоронения', 'Благоустройство мест захоронений')\n",
    "dataset_final.category = dataset_final.category.str.replace('Библиотеки',\\\n",
    "                                                        'Проекты в сфере культуры, библиотечного дела, ремонт домов культуры')\n",
    "dataset_final.category = dataset_final.category.str.replace('Бытовое обслуживание',\\\n",
    "                                                            'Проекты в сфере бытового обслуживания населения')\n",
    "dataset_final.category = dataset_final.category.str.replace('Проекты ЖКХ, ремонт многоквартирных домов', 'ЖКХ')\n",
    "dataset_final.category = dataset_final.category.str.replace('Объекты культурного наследия', 'Объекты культуры')\n",
    "dataset_final.category = dataset_final.category.str.replace(\"Культурное наследие (памятники, музеи)\", 'Объекты культуры', regex=False)\n",
    "dataset_final.category = dataset_final.category.str.replace('Массовое мероприятие', 'Событийные проекты (праздники, фестивали)')\n",
    "dataset_final.category = dataset_final.category.str.replace('Благоустройство$',\\\n",
    "                                                            'Места массового отдыха и объекты организации благоустройства', regex=True)\n",
    "dataset_final.category = dataset_final.category.str.replace('Спорт', 'Физическая культура и массовый спорт')"
   ]
  },
  {
   "cell_type": "markdown",
   "id": "0efd11fa",
   "metadata": {},
   "source": [
    "### Translating to English"
   ]
  },
  {
   "cell_type": "code",
   "execution_count": 141,
   "id": "464aef37",
   "metadata": {},
   "outputs": [],
   "source": [
    "remap_region_dict = {\n",
    "        'Адыгея': 'Adygea', 'Алтай': 'Altai_R', 'Алтайский': 'Altai_K',\n",
    "        'Амурская': 'Amur', 'Архангельская': 'Arkhangelsk', 'Астраханская': 'Astrakhan',\n",
    "        'Башкортостан': 'Bashkortostan', 'Белгородская': 'Belgorod',\n",
    "        'Брянская': 'Bryansk', 'Бурятия': 'Buryatia', 'Владимирская': 'Vladimir',\n",
    "        'Волгоградская': 'Volgograd', 'Вологодская': 'Vologda',\n",
    "        'Воронежская': 'Voronezh', 'Забайкальский': 'Zabaykalsky', \n",
    "        'Ивановская': 'Ivanovo', 'Иркутская': 'Irkutsk',\n",
    "        'Кабардино-Балкарская': 'Kabardino-Balkaria', 'Калининградская': 'Kaliningrad',\n",
    "        'Калмыкия': 'Kalmykia', 'Калужская': 'Kaluga', 'Карелия': 'Karelia',\n",
    "        'Кемеровская': 'Kemerovo', 'Кировская': 'Kirov', 'Коми': 'Komi',\n",
    "        'Костромская': 'Kostroma', 'Краснодарский': 'Krasnodar', 'Красноярский': 'Krasnoyarsk',\n",
    "        'Крым': 'Crimea', 'Курская': 'Kursk', 'Ленинградская': 'Leningrad',\n",
    "        'Липецкая': 'Lipetsk', 'Марий Эл': 'Mari El', 'Московская': 'Moscow_O',\n",
    "        'Мурманская': 'Murmansk', 'Ненецкий': 'Nenets',\n",
    "        'Нижегородская': 'Nizhny Novgorod', 'Новгородская': 'Novgorod', 'Новосибирская': 'Novosibirsk',\n",
    "        'Омская': 'Omsk', 'Оренбургская': 'Orenburg', 'Орловская': 'Oryol',\n",
    "        'Пермский': 'Perm', 'Приморский': 'Primorsky', 'Ростовская': 'Rostov',\n",
    "        'Рязанская': 'Ryazan', 'Самарская': 'Samara', 'Санкт-Петербург': 'St. Petersburg',\n",
    "        'Саратовская': 'Saratov', 'Саха (Якутия)': 'Yakutia', 'Сахалинская': 'Sakhalin', \n",
    "        'Свердловская': 'Sverdlovsk', 'Смоленская': 'Smolensk',\n",
    "        'Ставропольский': 'Stavropol', 'Тамбовская': 'Tambov', 'Татарстан': 'Tatarstan', \n",
    "        'Тверская': 'Tver', 'Томская': 'Tomsk ', 'Тульская': 'Tula', 'Тыва': 'Tuva', 'Тюменская': 'Tyumen',\n",
    "        'Удмуртская': 'Udmurtia', 'Ульяновская': 'Ulyanovsk', 'Хабаровский': 'Khabarovsk',\n",
    "        'Хакасия': 'Khakassia', 'Ханты-Мансийский': 'Khanty-Mansi', 'Челябинская': 'Chelyabinsk',\n",
    "        'Чувашская': 'Chuvashia', 'Ямало-Ненецкий': 'Yamalo-Nenets', 'Ярославская': 'Yaroslavl'}\n",
    "\n",
    "remap_category_dict = {\n",
    "        'Места массового отдыха и объекты организации благоустройства': 'Public recreational facilities and beautification',\n",
    "        'Детские игровые площадки': \"Children's playgrounds\",\n",
    "        'Автомобильные дороги, тротуары, пешеходные переходы, остановки': 'Roads, pavements, pedestrian crossings, bus stops',\n",
    "        'Физическая культура и массовый спорт': 'Physical education and mass sports',\n",
    "        'Школьное  и молодежные проекты инициативного бюджетирования': 'School and youth initiative budgeting projects',\n",
    "        'Проекты в сфере образования': 'Education projects',\n",
    "        'Проекты в сфере культуры, библиотечного дела, ремонт домов культуры': 'Cultural projects, libraries, renovation of cultural centres',\n",
    "        'Благоустройство мест захоронений': 'Improvement of burial sites',\n",
    "        'Дороги': \"Roads\",\n",
    "        'Другое': \"Other\",\n",
    "        'Объекты культуры': \"Cultural objects\",\n",
    "        'Водоснабжение, водоотведение': \"Water supply, wastewater disposal\",\n",
    "        'Уличное освещение': \"Street lighting\",\n",
    "        'Комплексное благоустройство дворов': \"Comprehensive courtyard improvements\",\n",
    "        'Приобретение оборудования, техники, транспорта': \"Acquisition of equipment, machinery, transport\",\n",
    "        'Пожарная безопасность': \"Fire safety\",\n",
    "        'Места массового пользования': \"Places of public use\",\n",
    "        'Событийные проекты (праздники, фестивали)': \"Event projects (festivals, festivals)\",\n",
    "        'Организация сбора твердых коммунальных отходов и мусора': \"Organising the collection of municipal solid waste and rubbish\",\n",
    "        'Проекты в сфере бытового обслуживания населения': \"Domestic service projects\",\n",
    "        'Проекты, направленные на уязвимые социальные группы и граждан с ограниченными возможностями': \"Projects aimed at vulnerable social groups and citizens with disabilities\",\n",
    "        'Народное творчество': \"Folk art\",\n",
    "        'ЖКХ': \"Housing and utilities\",\n",
    "        'Крупные инфраструктурные проекты (мосты, плотины, водоёмы)': \"Large infrastructure projects (bridges, dams, reservoirs)\",\n",
    "        'Доходогенерирующие проекты': \"Income-generating projects\",\n",
    "        'Туризм': \"Tourism\",\n",
    "}\n",
    "\n",
    "dataset_final = dataset_final.replace({\"region\": remap_region_dict})\n",
    "dataset_final = dataset_final.replace({\"category\": remap_category_dict})\n",
    "dataset_final = dataset_final.rename(columns={\"project_description\": \"description_rus\", \"address\": \"address_rus\"})"
   ]
  },
  {
   "cell_type": "code",
   "execution_count": 42,
   "id": "f794f2ec",
   "metadata": {},
   "outputs": [],
   "source": [
    "dataset_final.to_csv('projects_dataset.csv', index = False)"
   ]
  }
 ],
 "metadata": {
  "kernelspec": {
   "display_name": "Python 3",
   "language": "python",
   "name": "python3"
  },
  "language_info": {
   "codemirror_mode": {
    "name": "ipython",
    "version": 3
   },
   "file_extension": ".py",
   "mimetype": "text/x-python",
   "name": "python",
   "nbconvert_exporter": "python",
   "pygments_lexer": "ipython3",
   "version": "3.8.8"
  }
 },
 "nbformat": 4,
 "nbformat_minor": 5
}
