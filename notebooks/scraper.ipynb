{
 "cells": [
  {
   "cell_type": "code",
   "execution_count": 2,
   "metadata": {},
   "outputs": [],
   "source": [
    "import requests\n",
    "from urllib.request import urlopen\n",
    "from bs4 import BeautifulSoup\n",
    "from lxml import html\n",
    "from urllib.error import HTTPError\n",
    "import pandas as pd"
   ]
  },
  {
   "cell_type": "code",
   "execution_count": 3,
   "metadata": {},
   "outputs": [],
   "source": [
    "def retrieve_unique_from_element(soup_object, class_name, child=None, child_class=None):\n",
    "    if child_class != None:\n",
    "        element_value = soup_object.find('div', {'class': class_name}).find(child, {'class': child_class}).text\n",
    "    elif child != None:\n",
    "        element_value = soup_object.find('div', {'class': class_name}).find(child).text\n",
    "    else:\n",
    "        element_value = soup_object.find('div', {'class': class_name}).text\n",
    "    return element_value\n",
    "\n",
    "def retrieve_bunch_from_element(soup_object, class_name, child=None, child_class=None):\n",
    "    member_list = soup_object.find('div', {'class': class_name}) \n",
    "    element_value_list = []\n",
    "    for child in member_list.findChildren():\n",
    "        if child.text[0].isdigit():\n",
    "            element_value_list.append(int(child.text.split(\" \", 1)[0]))\n",
    "    return element_value_list\n",
    "\n",
    "class_list = [['mb-2', 'h1'],['item-year'],['address'],['type-name'],['project-price', 'span'],\n",
    "              ['cost budget', 'span', 'number'], ['cost municipal', 'span', 'number'],\n",
    "              ['cost citizens', 'span', 'number'], ['cost business', 'span', 'number']] \n",
    "\n",
    "def get_data(project_id, html_file, class_list):\n",
    "    soup_html = BeautifulSoup(html_file)\n",
    "    project_features = [project_id]\n",
    "    for i in class_list:\n",
    "        if len(i) == 3:\n",
    "            project_features.append(retrieve_unique_from_element(soup_html, i[0], i[1], i[2]))\n",
    "        elif len(i) == 2:\n",
    "            project_features.append(retrieve_unique_from_element(soup_html, i[0], i[1]))\n",
    "        else:\n",
    "            project_features.append(retrieve_unique_from_element(soup_html, i[0]))\n",
    "    project_features.extend(retrieve_bunch_from_element(soup_html, 'members-count')) \n",
    "    return project_features\n",
    "\n",
    "def parse_data():\n",
    "    project_id = 1\n",
    "    ib_dataset = pd.DataFrame()\n",
    "    while project_id < 100000: # projects are de facto found up to the number 70000\n",
    "        try: \n",
    "            response = urlopen(\"https://budget4me.ru/projects/view-project/?view=\"+str(project_id)) \n",
    "            #print(project_id)\n",
    "            if project_id % 100 == 0:\n",
    "                print(f\"Processing {project_id}...\")\n",
    "            html_project_page = response.read().decode('utf-8')\n",
    "            dataset_row = pd.DataFrame(get_data(project_id, html_project_page, class_list)).T\n",
    "            if len(dataset_row.columns) == 13:\n",
    "                print(f'{project_id} - BINGO')\n",
    "                ib_dataset = ib_dataset.append(dataset_row)\n",
    "        except AttributeError:\n",
    "            print(f'{project_id}: AttributeError') \n",
    "        except HTTPError:\n",
    "            print(f'{project_id}: Error 404')\n",
    "        finally:\n",
    "            project_id += 1\n",
    "    ib_dataset.columns = ['project_id','project_description','year','address','category','project_cost',\n",
    "                          'fund_region','fund_municipality','fund_citizens','fund_business',\n",
    "                          'initiative_group','assembly_participants','beneficiaries']\n",
    "    return ib_dataset"
   ]
  },
  {
   "cell_type": "code",
   "execution_count": 6,
   "metadata": {
    "scrolled": true
   },
   "outputs": [],
   "source": [
    "output_data = parse_data()\n",
    "#output_data.to_csv('init_budg_projects.csv', index=False) "
   ]
  }
 ],
 "metadata": {
  "kernelspec": {
   "display_name": "Python 3",
   "language": "python",
   "name": "python3"
  },
  "language_info": {
   "codemirror_mode": {
    "name": "ipython",
    "version": 3
   },
   "file_extension": ".py",
   "mimetype": "text/x-python",
   "name": "python",
   "nbconvert_exporter": "python",
   "pygments_lexer": "ipython3",
   "version": "3.8.8"
  }
 },
 "nbformat": 4,
 "nbformat_minor": 2
}
